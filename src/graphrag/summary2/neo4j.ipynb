{
 "cells": [
  {
   "cell_type": "code",
   "execution_count": 1,
   "metadata": {
    "ExecuteTime": {
     "end_time": "2025-07-27T03:55:21.409426300Z",
     "start_time": "2025-07-27T03:55:21.356583700Z"
    }
   },
   "outputs": [],
   "source": [
    "import pandas as pd\n",
    "entities = pd.read_parquet('output/create_final_entities.parquet')\n",
    "relationships = pd.read_parquet('output/create_final_relationships.parquet')\n",
    "text_units = pd.read_parquet('output/create_final_text_units.parquet')\n",
    "communities = pd.read_parquet('output/create_final_communities.parquet')\n",
    "community_reports = pd.read_parquet('output/create_final_community_reports.parquet')"
   ]
  },
  {
   "cell_type": "code",
   "execution_count": 2,
   "metadata": {
    "ExecuteTime": {
     "end_time": "2025-07-27T04:01:04.141193600Z",
     "start_time": "2025-07-27T04:01:04.111096200Z"
    }
   },
   "outputs": [
    {
     "data": {
      "text/html": [
       "<div>\n",
       "<style scoped>\n",
       "    .dataframe tbody tr th:only-of-type {\n",
       "        vertical-align: middle;\n",
       "    }\n",
       "\n",
       "    .dataframe tbody tr th {\n",
       "        vertical-align: top;\n",
       "    }\n",
       "\n",
       "    .dataframe thead th {\n",
       "        text-align: right;\n",
       "    }\n",
       "</style>\n",
       "<table border=\"1\" class=\"dataframe\">\n",
       "  <thead>\n",
       "    <tr style=\"text-align: right;\">\n",
       "      <th></th>\n",
       "      <th>id</th>\n",
       "      <th>human_readable_id</th>\n",
       "      <th>text</th>\n",
       "      <th>n_tokens</th>\n",
       "      <th>document_ids</th>\n",
       "      <th>entity_ids</th>\n",
       "      <th>relationship_ids</th>\n",
       "    </tr>\n",
       "  </thead>\n",
       "  <tbody>\n",
       "    <tr>\n",
       "      <th>0</th>\n",
       "      <td>17befc58fdfe7202df2606a90453de7f22267297daa805...</td>\n",
       "      <td>1</td>\n",
       "      <td>[章节: 4] [线路: 圭] [场景: 7]\\n\\n圭一直隐居在厢房中，拒绝与外界接触，尤...</td>\n",
       "      <td>724</td>\n",
       "      <td>[02b17e0728d391c6fba8f48cdd89525f73b25138c7ba6...</td>\n",
       "      <td>[36d78528-a48e-4e1c-ad60-7b6df5931f62, a2ae7ee...</td>\n",
       "      <td>[1a4553bd-8996-43a3-961a-5d063a64cc45, e2efe3d...</td>\n",
       "    </tr>\n",
       "    <tr>\n",
       "      <th>1</th>\n",
       "      <td>c8fe863ef5039c52895714750ba6a4e65a519b28f2e619...</td>\n",
       "      <td>2</td>\n",
       "      <td>[章节: 3] [线路: 真琴] [场景: 9]\\n\\n春天的暖意悄然融化了人与人之间曾经的...</td>\n",
       "      <td>852</td>\n",
       "      <td>[02ed832d4a13a28391dca7be770a9c39bb2f2714a8806...</td>\n",
       "      <td>[e3ca6c34-fbd3-448a-8a10-26d79b67a46d, 69f89f7...</td>\n",
       "      <td>[5fca1962-32e0-49a5-b86b-4be4823acf6a, 93d4e3c...</td>\n",
       "    </tr>\n",
       "    <tr>\n",
       "      <th>2</th>\n",
       "      <td>1c961a09b12538e7aff72384e452e84d1b3caef7f8bb28...</td>\n",
       "      <td>3</td>\n",
       "      <td>[章节: 4] [线路: 圭] [场景: 23]\\n\\n[剧情摘要]\\n\\n夏目圭在墓地作画...</td>\n",
       "      <td>682</td>\n",
       "      <td>[03b157d5a9935f266f16331bbe3394f9c2f0edbc749ff...</td>\n",
       "      <td>[9679c228-c208-4af3-8eb1-8f89f5524cef, 377d2e2...</td>\n",
       "      <td>[63c1ab8f-706e-4e1a-9e29-72a10884ee1f, ef563cc...</td>\n",
       "    </tr>\n",
       "    <tr>\n",
       "      <th>3</th>\n",
       "      <td>2ad37f53bd76e240edabeb366717f7afb7ce8a8622ffbc...</td>\n",
       "      <td>4</td>\n",
       "      <td>[章节: 3] [线路: 真琴] [场景: 1]\\n\\n主角在探望因过度劳累而住院的心铃后，...</td>\n",
       "      <td>866</td>\n",
       "      <td>[06a70e73f5141459dd2429ba0869eb2e45c7cd39ca4a5...</td>\n",
       "      <td>[2ab0b4c1-390f-4bc5-b24f-5c14a12ac5fe, 276c9dd...</td>\n",
       "      <td>[235eb6c4-f766-401e-bc19-08044cfa832c, 4c91fa8...</td>\n",
       "    </tr>\n",
       "    <tr>\n",
       "      <th>4</th>\n",
       "      <td>32de7fb22be5571c22924c440f57d0943e346c5302f046...</td>\n",
       "      <td>5</td>\n",
       "      <td>[章节: 1] [线路: 普通] [场景: 5] [角色: 旁白]\\n\\n静流与丽华之间的友...</td>\n",
       "      <td>842</td>\n",
       "      <td>[0ec5a2085049ec22d3041fda1d8ccdc0264def0d1a06e...</td>\n",
       "      <td>[a2ae7ee1-7e32-4615-a766-c9ef2e73c976, 845d2fa...</td>\n",
       "      <td>[9c566f7b-6c90-4dc8-8254-8e8b758701c3, 2bddf62...</td>\n",
       "    </tr>\n",
       "  </tbody>\n",
       "</table>\n",
       "</div>"
      ],
      "text/plain": [
       "                                                  id  human_readable_id  \\\n",
       "0  17befc58fdfe7202df2606a90453de7f22267297daa805...                  1   \n",
       "1  c8fe863ef5039c52895714750ba6a4e65a519b28f2e619...                  2   \n",
       "2  1c961a09b12538e7aff72384e452e84d1b3caef7f8bb28...                  3   \n",
       "3  2ad37f53bd76e240edabeb366717f7afb7ce8a8622ffbc...                  4   \n",
       "4  32de7fb22be5571c22924c440f57d0943e346c5302f046...                  5   \n",
       "\n",
       "                                                text  n_tokens  \\\n",
       "0  [章节: 4] [线路: 圭] [场景: 7]\\n\\n圭一直隐居在厢房中，拒绝与外界接触，尤...       724   \n",
       "1  [章节: 3] [线路: 真琴] [场景: 9]\\n\\n春天的暖意悄然融化了人与人之间曾经的...       852   \n",
       "2  [章节: 4] [线路: 圭] [场景: 23]\\n\\n[剧情摘要]\\n\\n夏目圭在墓地作画...       682   \n",
       "3  [章节: 3] [线路: 真琴] [场景: 1]\\n\\n主角在探望因过度劳累而住院的心铃后，...       866   \n",
       "4  [章节: 1] [线路: 普通] [场景: 5] [角色: 旁白]\\n\\n静流与丽华之间的友...       842   \n",
       "\n",
       "                                        document_ids  \\\n",
       "0  [02b17e0728d391c6fba8f48cdd89525f73b25138c7ba6...   \n",
       "1  [02ed832d4a13a28391dca7be770a9c39bb2f2714a8806...   \n",
       "2  [03b157d5a9935f266f16331bbe3394f9c2f0edbc749ff...   \n",
       "3  [06a70e73f5141459dd2429ba0869eb2e45c7cd39ca4a5...   \n",
       "4  [0ec5a2085049ec22d3041fda1d8ccdc0264def0d1a06e...   \n",
       "\n",
       "                                          entity_ids  \\\n",
       "0  [36d78528-a48e-4e1c-ad60-7b6df5931f62, a2ae7ee...   \n",
       "1  [e3ca6c34-fbd3-448a-8a10-26d79b67a46d, 69f89f7...   \n",
       "2  [9679c228-c208-4af3-8eb1-8f89f5524cef, 377d2e2...   \n",
       "3  [2ab0b4c1-390f-4bc5-b24f-5c14a12ac5fe, 276c9dd...   \n",
       "4  [a2ae7ee1-7e32-4615-a766-c9ef2e73c976, 845d2fa...   \n",
       "\n",
       "                                    relationship_ids  \n",
       "0  [1a4553bd-8996-43a3-961a-5d063a64cc45, e2efe3d...  \n",
       "1  [5fca1962-32e0-49a5-b86b-4be4823acf6a, 93d4e3c...  \n",
       "2  [63c1ab8f-706e-4e1a-9e29-72a10884ee1f, ef563cc...  \n",
       "3  [235eb6c4-f766-401e-bc19-08044cfa832c, 4c91fa8...  \n",
       "4  [9c566f7b-6c90-4dc8-8254-8e8b758701c3, 2bddf62...  "
      ]
     },
     "execution_count": 2,
     "metadata": {},
     "output_type": "execute_result"
    }
   ],
   "source": [
    "text_units.head()"
   ]
  },
  {
   "cell_type": "code",
   "execution_count": 6,
   "metadata": {
    "ExecuteTime": {
     "end_time": "2025-07-27T04:01:11.348995300Z",
     "start_time": "2025-07-27T04:01:11.323644300Z"
    }
   },
   "outputs": [
    {
     "data": {
      "text/html": [
       "<div>\n",
       "<style scoped>\n",
       "    .dataframe tbody tr th:only-of-type {\n",
       "        vertical-align: middle;\n",
       "    }\n",
       "\n",
       "    .dataframe tbody tr th {\n",
       "        vertical-align: top;\n",
       "    }\n",
       "\n",
       "    .dataframe thead th {\n",
       "        text-align: right;\n",
       "    }\n",
       "</style>\n",
       "<table border=\"1\" class=\"dataframe\">\n",
       "  <thead>\n",
       "    <tr style=\"text-align: right;\">\n",
       "      <th></th>\n",
       "      <th>id</th>\n",
       "      <th>human_readable_id</th>\n",
       "      <th>title</th>\n",
       "      <th>type</th>\n",
       "      <th>description</th>\n",
       "      <th>text_unit_ids</th>\n",
       "    </tr>\n",
       "  </thead>\n",
       "  <tbody>\n",
       "    <tr>\n",
       "      <th>0</th>\n",
       "      <td>36d78528-a48e-4e1c-ad60-7b6df5931f62</td>\n",
       "      <td>0</td>\n",
       "      <td>纱希</td>\n",
       "      <td>CHARACTER</td>\n",
       "      <td>&lt;think&gt;\\n好的，我现在需要处理用户提供的关于纱希的描述，并生成一个连贯的总结。首先，...</td>\n",
       "      <td>[17befc58fdfe7202df2606a90453de7f22267297daa80...</td>\n",
       "    </tr>\n",
       "    <tr>\n",
       "      <th>1</th>\n",
       "      <td>a2ae7ee1-7e32-4615-a766-c9ef2e73c976</td>\n",
       "      <td>1</td>\n",
       "      <td>丽华</td>\n",
       "      <td>CHARACTER</td>\n",
       "      <td>&lt;think&gt;\\n好的，我现在需要处理用户提供的关于“丽华”的数据，并生成一个综合的中文描述...</td>\n",
       "      <td>[17befc58fdfe7202df2606a90453de7f22267297daa80...</td>\n",
       "    </tr>\n",
       "    <tr>\n",
       "      <th>2</th>\n",
       "      <td>db0e18f4-02ec-4970-b8d0-234fbf243133</td>\n",
       "      <td>2</td>\n",
       "      <td>草薙直哉</td>\n",
       "      <td>CHARACTER</td>\n",
       "      <td>&lt;think&gt;\\n好的，我现在需要处理用户提供的关于“草薙直哉”的数据，并生成一个综合的描述...</td>\n",
       "      <td>[17befc58fdfe7202df2606a90453de7f22267297daa80...</td>\n",
       "    </tr>\n",
       "    <tr>\n",
       "      <th>3</th>\n",
       "      <td>9679c228-c208-4af3-8eb1-8f89f5524cef</td>\n",
       "      <td>3</td>\n",
       "      <td>草薙健一郎</td>\n",
       "      <td>CHARACTER</td>\n",
       "      <td>&lt;think&gt;\\n好的，我需要处理用户提供的关于“草薙健一郎”的数据，并生成一个综合的中文描...</td>\n",
       "      <td>[17befc58fdfe7202df2606a90453de7f22267297daa80...</td>\n",
       "    </tr>\n",
       "    <tr>\n",
       "      <th>4</th>\n",
       "      <td>6047fdc4-3b59-4565-b581-f1b1b9494e1e</td>\n",
       "      <td>4</td>\n",
       "      <td>弓张学院</td>\n",
       "      <td>INSTITUTION</td>\n",
       "      <td>&lt;think&gt;\\n好的，我现在需要处理用户提供的关于“弓张学院”的数据，并生成一个综合的中文...</td>\n",
       "      <td>[17befc58fdfe7202df2606a90453de7f22267297daa80...</td>\n",
       "    </tr>\n",
       "  </tbody>\n",
       "</table>\n",
       "</div>"
      ],
      "text/plain": [
       "                                     id  human_readable_id  title  \\\n",
       "0  36d78528-a48e-4e1c-ad60-7b6df5931f62                  0     纱希   \n",
       "1  a2ae7ee1-7e32-4615-a766-c9ef2e73c976                  1     丽华   \n",
       "2  db0e18f4-02ec-4970-b8d0-234fbf243133                  2   草薙直哉   \n",
       "3  9679c228-c208-4af3-8eb1-8f89f5524cef                  3  草薙健一郎   \n",
       "4  6047fdc4-3b59-4565-b581-f1b1b9494e1e                  4   弓张学院   \n",
       "\n",
       "          type                                        description  \\\n",
       "0    CHARACTER  <think>\\n好的，我现在需要处理用户提供的关于纱希的描述，并生成一个连贯的总结。首先，...   \n",
       "1    CHARACTER  <think>\\n好的，我现在需要处理用户提供的关于“丽华”的数据，并生成一个综合的中文描述...   \n",
       "2    CHARACTER  <think>\\n好的，我现在需要处理用户提供的关于“草薙直哉”的数据，并生成一个综合的描述...   \n",
       "3    CHARACTER  <think>\\n好的，我需要处理用户提供的关于“草薙健一郎”的数据，并生成一个综合的中文描...   \n",
       "4  INSTITUTION  <think>\\n好的，我现在需要处理用户提供的关于“弓张学院”的数据，并生成一个综合的中文...   \n",
       "\n",
       "                                       text_unit_ids  \n",
       "0  [17befc58fdfe7202df2606a90453de7f22267297daa80...  \n",
       "1  [17befc58fdfe7202df2606a90453de7f22267297daa80...  \n",
       "2  [17befc58fdfe7202df2606a90453de7f22267297daa80...  \n",
       "3  [17befc58fdfe7202df2606a90453de7f22267297daa80...  \n",
       "4  [17befc58fdfe7202df2606a90453de7f22267297daa80...  "
      ]
     },
     "execution_count": 6,
     "metadata": {},
     "output_type": "execute_result"
    }
   ],
   "source": [
    "entities.head()"
   ]
  },
  {
   "cell_type": "code",
   "execution_count": 9,
   "metadata": {
    "ExecuteTime": {
     "end_time": "2025-07-27T03:55:23.364902900Z",
     "start_time": "2025-07-27T03:55:23.325803100Z"
    }
   },
   "outputs": [
    {
     "data": {
      "text/html": [
       "<div>\n",
       "<style scoped>\n",
       "    .dataframe tbody tr th:only-of-type {\n",
       "        vertical-align: middle;\n",
       "    }\n",
       "\n",
       "    .dataframe tbody tr th {\n",
       "        vertical-align: top;\n",
       "    }\n",
       "\n",
       "    .dataframe thead th {\n",
       "        text-align: right;\n",
       "    }\n",
       "</style>\n",
       "<table border=\"1\" class=\"dataframe\">\n",
       "  <thead>\n",
       "    <tr style=\"text-align: right;\">\n",
       "      <th></th>\n",
       "      <th>id</th>\n",
       "      <th>human_readable_id</th>\n",
       "      <th>source</th>\n",
       "      <th>target</th>\n",
       "      <th>description</th>\n",
       "      <th>weight</th>\n",
       "      <th>combined_degree</th>\n",
       "      <th>text_unit_ids</th>\n",
       "    </tr>\n",
       "  </thead>\n",
       "  <tbody>\n",
       "    <tr>\n",
       "      <th>0</th>\n",
       "      <td>1a4553bd-8996-43a3-961a-5d063a64cc45</td>\n",
       "      <td>0</td>\n",
       "      <td>纱希</td>\n",
       "      <td>圭</td>\n",
       "      <td>&lt;think&gt;\\n好的，我现在需要处理用户提供的关于纱希和圭的数据，生成一个综合的中文描述。...</td>\n",
       "      <td>19.0</td>\n",
       "      <td>97</td>\n",
       "      <td>[17befc58fdfe7202df2606a90453de7f22267297daa80...</td>\n",
       "    </tr>\n",
       "    <tr>\n",
       "      <th>1</th>\n",
       "      <td>e2efe3db-0b2b-430c-86ff-14a0c603995f</td>\n",
       "      <td>1</td>\n",
       "      <td>纱希</td>\n",
       "      <td>丽华</td>\n",
       "      <td>敌对关系，因家族恩怨互相指责</td>\n",
       "      <td>8.0</td>\n",
       "      <td>30</td>\n",
       "      <td>[17befc58fdfe7202df2606a90453de7f22267297daa80...</td>\n",
       "    </tr>\n",
       "    <tr>\n",
       "      <th>2</th>\n",
       "      <td>dcabf73b-5598-4766-974b-f2a4e72a6c74</td>\n",
       "      <td>2</td>\n",
       "      <td>纱希</td>\n",
       "      <td>画作</td>\n",
       "      <td>因震惊于圭的画作而引发争执</td>\n",
       "      <td>9.0</td>\n",
       "      <td>14</td>\n",
       "      <td>[17befc58fdfe7202df2606a90453de7f22267297daa80...</td>\n",
       "    </tr>\n",
       "    <tr>\n",
       "      <th>3</th>\n",
       "      <td>8ae58994-5e70-4fc4-a683-5bfd33477b68</td>\n",
       "      <td>3</td>\n",
       "      <td>纱希</td>\n",
       "      <td>黑衣人</td>\n",
       "      <td>纱希被黑衣人强行带走，暗示其潜在威胁</td>\n",
       "      <td>9.0</td>\n",
       "      <td>15</td>\n",
       "      <td>[17befc58fdfe7202df2606a90453de7f22267297daa80...</td>\n",
       "    </tr>\n",
       "    <tr>\n",
       "      <th>4</th>\n",
       "      <td>a573e608-5e9a-4300-a326-e17e06b985a6</td>\n",
       "      <td>4</td>\n",
       "      <td>纱希</td>\n",
       "      <td>中村家蒙羞</td>\n",
       "      <td>纱希的行为直接导致家族耻辱事件</td>\n",
       "      <td>1.0</td>\n",
       "      <td>15</td>\n",
       "      <td>[17befc58fdfe7202df2606a90453de7f22267297daa80...</td>\n",
       "    </tr>\n",
       "  </tbody>\n",
       "</table>\n",
       "</div>"
      ],
      "text/plain": [
       "                                     id  human_readable_id source target  \\\n",
       "0  1a4553bd-8996-43a3-961a-5d063a64cc45                  0     纱希      圭   \n",
       "1  e2efe3db-0b2b-430c-86ff-14a0c603995f                  1     纱希     丽华   \n",
       "2  dcabf73b-5598-4766-974b-f2a4e72a6c74                  2     纱希     画作   \n",
       "3  8ae58994-5e70-4fc4-a683-5bfd33477b68                  3     纱希    黑衣人   \n",
       "4  a573e608-5e9a-4300-a326-e17e06b985a6                  4     纱希  中村家蒙羞   \n",
       "\n",
       "                                         description  weight  combined_degree  \\\n",
       "0  <think>\\n好的，我现在需要处理用户提供的关于纱希和圭的数据，生成一个综合的中文描述。...    19.0               97   \n",
       "1                                     敌对关系，因家族恩怨互相指责     8.0               30   \n",
       "2                                      因震惊于圭的画作而引发争执     9.0               14   \n",
       "3                                 纱希被黑衣人强行带走，暗示其潜在威胁     9.0               15   \n",
       "4                                    纱希的行为直接导致家族耻辱事件     1.0               15   \n",
       "\n",
       "                                       text_unit_ids  \n",
       "0  [17befc58fdfe7202df2606a90453de7f22267297daa80...  \n",
       "1  [17befc58fdfe7202df2606a90453de7f22267297daa80...  \n",
       "2  [17befc58fdfe7202df2606a90453de7f22267297daa80...  \n",
       "3  [17befc58fdfe7202df2606a90453de7f22267297daa80...  \n",
       "4  [17befc58fdfe7202df2606a90453de7f22267297daa80...  "
      ]
     },
     "execution_count": 9,
     "metadata": {},
     "output_type": "execute_result"
    }
   ],
   "source": [
    "relationships.head()"
   ]
  },
  {
   "cell_type": "code",
   "execution_count": 10,
   "metadata": {
    "ExecuteTime": {
     "end_time": "2025-07-27T03:55:23.583256Z",
     "start_time": "2025-07-27T03:55:23.543254600Z"
    }
   },
   "outputs": [
    {
     "data": {
      "text/html": [
       "<div>\n",
       "<style scoped>\n",
       "    .dataframe tbody tr th:only-of-type {\n",
       "        vertical-align: middle;\n",
       "    }\n",
       "\n",
       "    .dataframe tbody tr th {\n",
       "        vertical-align: top;\n",
       "    }\n",
       "\n",
       "    .dataframe thead th {\n",
       "        text-align: right;\n",
       "    }\n",
       "</style>\n",
       "<table border=\"1\" class=\"dataframe\">\n",
       "  <thead>\n",
       "    <tr style=\"text-align: right;\">\n",
       "      <th></th>\n",
       "      <th>id</th>\n",
       "      <th>human_readable_id</th>\n",
       "      <th>community</th>\n",
       "      <th>parent</th>\n",
       "      <th>level</th>\n",
       "      <th>title</th>\n",
       "      <th>entity_ids</th>\n",
       "      <th>relationship_ids</th>\n",
       "      <th>text_unit_ids</th>\n",
       "      <th>period</th>\n",
       "      <th>size</th>\n",
       "    </tr>\n",
       "  </thead>\n",
       "  <tbody>\n",
       "    <tr>\n",
       "      <th>0</th>\n",
       "      <td>3280f45f-3cf6-43b1-83a4-db3727fecbd6</td>\n",
       "      <td>0</td>\n",
       "      <td>0</td>\n",
       "      <td>-1</td>\n",
       "      <td>0</td>\n",
       "      <td>Community 0</td>\n",
       "      <td>[db0e18f4-02ec-4970-b8d0-234fbf243133, ec6424d...</td>\n",
       "      <td>[006bf4f7-c973-4202-b0ec-dce0cab5e96e, 063e07a...</td>\n",
       "      <td>[0b9d34ab49fde94d6ffae2a5fa857b9672b6c48e23b45...</td>\n",
       "      <td>2025-07-31</td>\n",
       "      <td>77</td>\n",
       "    </tr>\n",
       "    <tr>\n",
       "      <th>1</th>\n",
       "      <td>e4b6bb74-c8b0-4d26-8134-e3e0b7ebef86</td>\n",
       "      <td>1</td>\n",
       "      <td>1</td>\n",
       "      <td>-1</td>\n",
       "      <td>0</td>\n",
       "      <td>Community 1</td>\n",
       "      <td>[295d1cae-7970-4d04-a11b-15f98eead69a, 4438408...</td>\n",
       "      <td>[030f7780-7784-4e34-87f3-793b012ac446, 084394d...</td>\n",
       "      <td>[10e4f6ef360b15b10c37e59386c47cc67549f4e4ce4a1...</td>\n",
       "      <td>2025-07-31</td>\n",
       "      <td>27</td>\n",
       "    </tr>\n",
       "  </tbody>\n",
       "</table>\n",
       "</div>"
      ],
      "text/plain": [
       "                                     id  human_readable_id  community  parent  \\\n",
       "0  3280f45f-3cf6-43b1-83a4-db3727fecbd6                  0          0      -1   \n",
       "1  e4b6bb74-c8b0-4d26-8134-e3e0b7ebef86                  1          1      -1   \n",
       "\n",
       "   level        title                                         entity_ids  \\\n",
       "0      0  Community 0  [db0e18f4-02ec-4970-b8d0-234fbf243133, ec6424d...   \n",
       "1      0  Community 1  [295d1cae-7970-4d04-a11b-15f98eead69a, 4438408...   \n",
       "\n",
       "                                    relationship_ids  \\\n",
       "0  [006bf4f7-c973-4202-b0ec-dce0cab5e96e, 063e07a...   \n",
       "1  [030f7780-7784-4e34-87f3-793b012ac446, 084394d...   \n",
       "\n",
       "                                       text_unit_ids      period  size  \n",
       "0  [0b9d34ab49fde94d6ffae2a5fa857b9672b6c48e23b45...  2025-07-31    77  \n",
       "1  [10e4f6ef360b15b10c37e59386c47cc67549f4e4ce4a1...  2025-07-31    27  "
      ]
     },
     "execution_count": 10,
     "metadata": {},
     "output_type": "execute_result"
    }
   ],
   "source": [
    "communities.head(2)"
   ]
  },
  {
   "cell_type": "code",
   "execution_count": 11,
   "metadata": {
    "ExecuteTime": {
     "end_time": "2025-07-27T03:55:24.700416700Z",
     "start_time": "2025-07-27T03:55:24.671780100Z"
    }
   },
   "outputs": [
    {
     "data": {
      "text/html": [
       "<div>\n",
       "<style scoped>\n",
       "    .dataframe tbody tr th:only-of-type {\n",
       "        vertical-align: middle;\n",
       "    }\n",
       "\n",
       "    .dataframe tbody tr th {\n",
       "        vertical-align: top;\n",
       "    }\n",
       "\n",
       "    .dataframe thead th {\n",
       "        text-align: right;\n",
       "    }\n",
       "</style>\n",
       "<table border=\"1\" class=\"dataframe\">\n",
       "  <thead>\n",
       "    <tr style=\"text-align: right;\">\n",
       "      <th></th>\n",
       "      <th>id</th>\n",
       "      <th>human_readable_id</th>\n",
       "      <th>community</th>\n",
       "      <th>parent</th>\n",
       "      <th>level</th>\n",
       "      <th>title</th>\n",
       "      <th>summary</th>\n",
       "      <th>full_content</th>\n",
       "      <th>rank</th>\n",
       "      <th>rank_explanation</th>\n",
       "      <th>findings</th>\n",
       "      <th>full_content_json</th>\n",
       "      <th>period</th>\n",
       "      <th>size</th>\n",
       "    </tr>\n",
       "  </thead>\n",
       "  <tbody>\n",
       "    <tr>\n",
       "      <th>0</th>\n",
       "      <td>7c38c8f459944ba0bbf6318be9e6bb01</td>\n",
       "      <td>87</td>\n",
       "      <td>87</td>\n",
       "      <td>31</td>\n",
       "      <td>2</td>\n",
       "      <td>修车事件与VESPA150STD摩托车的协作实践</td>\n",
       "      <td>该社区围绕'修车事件'展开，该事件是两人协作修复摩托车的实践过程，象征现实改造与协作。VES...</td>\n",
       "      <td># 修车事件与VESPA150STD摩托车的协作实践\\n\\n该社区围绕'修车事件'展开，该事...</td>\n",
       "      <td>4.5</td>\n",
       "      <td>文本对Galgame角色对话分析的关联性中等，主要体现为协作实践与叙事象征的潜在关联，但缺乏...</td>\n",
       "      <td>[{'explanation': ''修车事件'是社区的中心实体，其描述强调两人协作修复摩托...</td>\n",
       "      <td>{\\n    \"title\": \"修车事件与VESPA150STD摩托车的协作实践\",\\n ...</td>\n",
       "      <td>2025-07-31</td>\n",
       "      <td>3</td>\n",
       "    </tr>\n",
       "    <tr>\n",
       "      <th>1</th>\n",
       "      <td>9c04580565ef442b97bafdf05d23d975</td>\n",
       "      <td>88</td>\n",
       "      <td>88</td>\n",
       "      <td>31</td>\n",
       "      <td>2</td>\n",
       "      <td>健一郎与艺术哲学的交汇</td>\n",
       "      <td>该社区围绕健一郎这一核心实体展开，其作为艺术指导者、摇滚艺术家和实用技能传授者的多重身份，通...</td>\n",
       "      <td># 健一郎与艺术哲学的交汇\\n\\n该社区围绕健一郎这一核心实体展开，其作为艺术指导者、摇滚艺...</td>\n",
       "      <td>8.5</td>\n",
       "      <td>文本高度关联Galgame角色对话分析，涵盖叙事结构、角色关系动态、哲学主题深度及艺术表达形...</td>\n",
       "      <td>[{'explanation': '健一郎是社区的核心实体，兼具艺术指导者、摇滚艺术家和实用...</td>\n",
       "      <td>{\\n    \"title\": \"健一郎与艺术哲学的交汇\",\\n    \"summary\":...</td>\n",
       "      <td>2025-07-31</td>\n",
       "      <td>5</td>\n",
       "    </tr>\n",
       "  </tbody>\n",
       "</table>\n",
       "</div>"
      ],
      "text/plain": [
       "                                 id  human_readable_id  community  parent  \\\n",
       "0  7c38c8f459944ba0bbf6318be9e6bb01                 87         87      31   \n",
       "1  9c04580565ef442b97bafdf05d23d975                 88         88      31   \n",
       "\n",
       "   level                     title  \\\n",
       "0      2  修车事件与VESPA150STD摩托车的协作实践   \n",
       "1      2               健一郎与艺术哲学的交汇   \n",
       "\n",
       "                                             summary  \\\n",
       "0  该社区围绕'修车事件'展开，该事件是两人协作修复摩托车的实践过程，象征现实改造与协作。VES...   \n",
       "1  该社区围绕健一郎这一核心实体展开，其作为艺术指导者、摇滚艺术家和实用技能传授者的多重身份，通...   \n",
       "\n",
       "                                        full_content  rank  \\\n",
       "0  # 修车事件与VESPA150STD摩托车的协作实践\\n\\n该社区围绕'修车事件'展开，该事...   4.5   \n",
       "1  # 健一郎与艺术哲学的交汇\\n\\n该社区围绕健一郎这一核心实体展开，其作为艺术指导者、摇滚艺...   8.5   \n",
       "\n",
       "                                    rank_explanation  \\\n",
       "0  文本对Galgame角色对话分析的关联性中等，主要体现为协作实践与叙事象征的潜在关联，但缺乏...   \n",
       "1  文本高度关联Galgame角色对话分析，涵盖叙事结构、角色关系动态、哲学主题深度及艺术表达形...   \n",
       "\n",
       "                                            findings  \\\n",
       "0  [{'explanation': ''修车事件'是社区的中心实体，其描述强调两人协作修复摩托...   \n",
       "1  [{'explanation': '健一郎是社区的核心实体，兼具艺术指导者、摇滚艺术家和实用...   \n",
       "\n",
       "                                   full_content_json      period  size  \n",
       "0  {\\n    \"title\": \"修车事件与VESPA150STD摩托车的协作实践\",\\n ...  2025-07-31     3  \n",
       "1  {\\n    \"title\": \"健一郎与艺术哲学的交汇\",\\n    \"summary\":...  2025-07-31     5  "
      ]
     },
     "execution_count": 11,
     "metadata": {},
     "output_type": "execute_result"
    }
   ],
   "source": [
    "community_reports.head(2)"
   ]
  },
  {
   "cell_type": "code",
   "execution_count": 18,
   "metadata": {
    "ExecuteTime": {
     "end_time": "2025-07-27T03:55:25.501636100Z",
     "start_time": "2025-07-27T03:55:25.487563600Z"
    }
   },
   "outputs": [],
   "source": [
    "import pandas as pd\n",
    "from neo4j import GraphDatabase\n",
    "import time"
   ]
  },
  {
   "cell_type": "code",
   "execution_count": 19,
   "metadata": {
    "ExecuteTime": {
     "end_time": "2025-07-27T03:55:25.984409300Z",
     "start_time": "2025-07-27T03:55:25.977257500Z"
    }
   },
   "outputs": [],
   "source": [
    "NEO4J_URI = \"neo4j://localhost\"\n",
    "NEO4J_USERNAME = \"neo4j\"\n",
    "NEO4J_PASSWORD = \"123123\" \n",
    "NEO4J_DATABASE = \"neo4j\"\n",
    "driver = GraphDatabase.driver(NEO4J_URI, auth=(NEO4J_USERNAME, NEO4J_PASSWORD))\n"
   ]
  },
  {
   "cell_type": "code",
   "execution_count": 20,
   "metadata": {
    "ExecuteTime": {
     "end_time": "2025-07-27T03:55:30.257316300Z",
     "start_time": "2025-07-27T03:55:30.250199500Z"
    }
   },
   "outputs": [],
   "source": [
    "def import_data(cypher, df, batch_size=1000):\n",
    "\n",
    "    for i in range(0,len(df), batch_size):\n",
    "        batch = df.iloc[i: min(i+batch_size, len(df))]\n",
    "        result = driver.execute_query(\"UNWIND $rows AS value \" + cypher, \n",
    "                                      rows=batch.to_dict('records'),\n",
    "                                      database_=NEO4J_DATABASE)\n",
    "        print(result.summary.counters)\n",
    "    return "
   ]
  },
  {
   "cell_type": "code",
   "execution_count": 41,
   "metadata": {
    "ExecuteTime": {
     "end_time": "2025-07-27T04:06:50.415199800Z",
     "start_time": "2025-07-27T04:06:50.407559400Z"
    },
    "collapsed": false
   },
   "outputs": [
    {
     "data": {
      "text/plain": [
       "Index(['id', 'human_readable_id', 'text', 'n_tokens', 'document_ids',\n",
       "       'entity_ids', 'relationship_ids'],\n",
       "      dtype='object')"
      ]
     },
     "execution_count": 41,
     "metadata": {},
     "output_type": "execute_result"
    }
   ],
   "source": [
    "text_units.columns"
   ]
  },
  {
   "cell_type": "code",
   "execution_count": 42,
   "metadata": {
    "ExecuteTime": {
     "end_time": "2025-07-27T04:07:35.085441400Z",
     "start_time": "2025-07-27T04:07:34.959171200Z"
    }
   },
   "outputs": [
    {
     "name": "stdout",
     "output_type": "stream",
     "text": [
      "{'_contains_updates': True, 'properties_set': 164}\n"
     ]
    }
   ],
   "source": [
    "#导入text units\n",
    "cypher_text_units = \"\"\"\n",
    "MERGE (c:__Chunk__ {id:value.id})\n",
    "SET c += value {.text, .n_tokens}\n",
    "WITH c, value\n",
    "\n",
    "// 关联文档\n",
    "UNWIND value.document_ids AS document\n",
    "MATCH (d:__Document__ {id:document})\n",
    "MERGE (c)-[:PART_OF]->(d)\n",
    "\n",
    "// 关联实体\n",
    "WITH c, value\n",
    "UNWIND coalesce(value.entity_ids, []) AS entity_id\n",
    "MATCH (e:__Entity__ {id:entity_id})\n",
    "MERGE (c)-[:HAS_ENTITY]->(e)\n",
    "\n",
    "// 关联关系\n",
    "WITH c, value\n",
    "UNWIND coalesce(value.relationship_ids, []) AS rel_id\n",
    "MATCH (r:__Relationship__ {id:rel_id})\n",
    "MERGE (c)-[:HAS_RELATIONSHIP]->(r)\n",
    "\n",
    "\"\"\"\n",
    "\n",
    "import_data(cypher_text_units, text_units)"
   ]
  },
  {
   "cell_type": "code",
   "execution_count": 43,
   "metadata": {
    "ExecuteTime": {
     "end_time": "2025-07-27T04:07:49.309557200Z",
     "start_time": "2025-07-27T04:07:49.291019300Z"
    },
    "collapsed": false
   },
   "outputs": [
    {
     "data": {
      "text/plain": [
       "Index(['id', 'human_readable_id', 'title', 'type', 'description',\n",
       "       'text_unit_ids'],\n",
       "      dtype='object')"
      ]
     },
     "execution_count": 43,
     "metadata": {},
     "output_type": "execute_result"
    }
   ],
   "source": [
    "entities.columns"
   ]
  },
  {
   "cell_type": "code",
   "execution_count": 44,
   "metadata": {
    "ExecuteTime": {
     "end_time": "2025-07-27T04:08:05.220320Z",
     "start_time": "2025-07-27T04:08:04.740848500Z"
    }
   },
   "outputs": [
    {
     "name": "stdout",
     "output_type": "stream",
     "text": [
      "{'_contains_updates': True, 'properties_set': 1896}\n"
     ]
    }
   ],
   "source": [
    "#加载entities\n",
    "cypher_entities= \"\"\"\n",
    "MERGE (e:__Entity__ {id:value.id})\n",
    "SET e += value {.human_readable_id, .description, name:replace(value.title, '\"', '')}\n",
    "WITH e, value\n",
    "CALL apoc.create.addLabels(e, \n",
    "    CASE WHEN coalesce(value.type, \"\") = \"\" THEN [] \n",
    "         ELSE [apoc.text.upperCamelCase(replace(value.type, '\"', ''))] END) YIELD node\n",
    "WITH e, value\n",
    "UNWIND coalesce(value.text_unit_ids, []) AS text_unit\n",
    "MATCH (c:__Chunk__ {id:text_unit})\n",
    "MERGE (c)-[:HAS_ENTITY]->(e)\n",
    "\"\"\"\n",
    "\n",
    "import_data(cypher_entities, entities)"
   ]
  },
  {
   "cell_type": "code",
   "execution_count": 45,
   "metadata": {
    "ExecuteTime": {
     "end_time": "2025-07-27T04:08:13.117699700Z",
     "start_time": "2025-07-27T04:08:13.106729500Z"
    },
    "collapsed": false
   },
   "outputs": [
    {
     "data": {
      "text/plain": [
       "Index(['id', 'human_readable_id', 'source', 'target', 'description', 'weight',\n",
       "       'combined_degree', 'text_unit_ids'],\n",
       "      dtype='object')"
      ]
     },
     "execution_count": 45,
     "metadata": {},
     "output_type": "execute_result"
    }
   ],
   "source": [
    "relationships.columns"
   ]
  },
  {
   "cell_type": "code",
   "execution_count": 46,
   "metadata": {
    "ExecuteTime": {
     "end_time": "2025-07-27T04:08:31.655390300Z",
     "start_time": "2025-07-27T04:08:30.965693200Z"
    }
   },
   "outputs": [
    {
     "name": "stdout",
     "output_type": "stream",
     "text": [
      "{'_contains_updates': True, 'relationships_created': 885, 'properties_set': 4425}\n"
     ]
    }
   ],
   "source": [
    "#导入relationships\n",
    "cypher_relationships = \"\"\"\n",
    "MATCH (source:__Entity__ {name:replace(value.source,'\"','')})\n",
    "MATCH (target:__Entity__ {name:replace(value.target,'\"','')})\n",
    "WITH source, target, value\n",
    "MERGE (source)-[rel:RELATED {id: value.id}]->(target)\n",
    "SET rel += value {.weight, .human_readable_id, .description, .text_unit_ids}\n",
    "RETURN count(rel) AS relCount\n",
    "\"\"\"\n",
    "\n",
    "import_data(cypher_relationships, relationships)"
   ]
  },
  {
   "cell_type": "code",
   "execution_count": 47,
   "metadata": {
    "ExecuteTime": {
     "end_time": "2025-07-27T04:08:41.745375800Z",
     "start_time": "2025-07-27T04:08:41.722406800Z"
    },
    "collapsed": false
   },
   "outputs": [
    {
     "data": {
      "text/plain": [
       "Index(['id', 'human_readable_id', 'community', 'parent', 'level', 'title',\n",
       "       'entity_ids', 'relationship_ids', 'text_unit_ids', 'period', 'size'],\n",
       "      dtype='object')"
      ]
     },
     "execution_count": 47,
     "metadata": {},
     "output_type": "execute_result"
    }
   ],
   "source": [
    "communities.columns"
   ]
  },
  {
   "cell_type": "code",
   "execution_count": 48,
   "metadata": {
    "ExecuteTime": {
     "end_time": "2025-07-27T04:09:21.667728300Z",
     "start_time": "2025-07-27T04:09:20.562834200Z"
    }
   },
   "outputs": [
    {
     "name": "stdout",
     "output_type": "stream",
     "text": [
      "{'_contains_updates': True, 'labels_added': 104, 'relationships_created': 1016, 'nodes_created': 104, 'properties_set': 312}\n"
     ]
    }
   ],
   "source": [
    "#导入communities\n",
    "cypher_communities = \"\"\"\n",
    "MERGE (c:__Community__ {community: value.community})\n",
    "SET c += value {.level, .title}\n",
    "\n",
    "WITH c, value\n",
    "\n",
    "// 如果需要导入 text_unit 与社区的关系，可以取消注释\n",
    "/*\n",
    "UNWIND value.text_unit_ids AS text_unit_id\n",
    "MATCH (t:__Chunk__ {id: text_unit_id})\n",
    "MERGE (c)-[:HAS_CHUNK]->(t)\n",
    "*/\n",
    "\n",
    "WITH c, value\n",
    "\n",
    "UNWIND value.relationship_ids AS rel_id\n",
    "MATCH (start:__Entity__)-[r:RELATED {id: rel_id}]->(end:__Entity__)\n",
    "MERGE (start)-[:IN_COMMUNITY]->(c)\n",
    "MERGE (end)-[:IN_COMMUNITY]->(c)\n",
    "\n",
    "RETURN count(DISTINCT c) AS createdCommunities\n",
    "\"\"\"\n",
    "\n",
    "import_data(cypher_communities, communities)"
   ]
  },
  {
   "cell_type": "code",
   "execution_count": 49,
   "metadata": {
    "ExecuteTime": {
     "end_time": "2025-07-27T04:09:31.471412Z",
     "start_time": "2025-07-27T04:09:31.437704900Z"
    },
    "collapsed": false
   },
   "outputs": [
    {
     "data": {
      "text/plain": [
       "Index(['id', 'human_readable_id', 'community', 'parent', 'level', 'title',\n",
       "       'summary', 'full_content', 'rank', 'rank_explanation', 'findings',\n",
       "       'full_content_json', 'period', 'size'],\n",
       "      dtype='object')"
      ]
     },
     "execution_count": 49,
     "metadata": {},
     "output_type": "execute_result"
    }
   ],
   "source": [
    "community_reports.columns"
   ]
  },
  {
   "cell_type": "code",
   "execution_count": 50,
   "metadata": {
    "ExecuteTime": {
     "end_time": "2025-07-27T04:09:57.338958900Z",
     "start_time": "2025-07-27T04:09:56.991762300Z"
    }
   },
   "outputs": [
    {
     "name": "stdout",
     "output_type": "stream",
     "text": [
      "{'_contains_updates': True, 'labels_added': 519, 'relationships_created': 519, 'nodes_created': 519, 'properties_set': 2157}\n"
     ]
    }
   ],
   "source": [
    "#导入community_reports\n",
    "cypher_community_reports = \"\"\"\n",
    "MATCH (c:__Community__ {community: value.community})\n",
    "SET c += value {.level, .title, .rank, .rank_explanation, .full_content, .summary}\n",
    "WITH c, value\n",
    "UNWIND range(0, size(value.findings)-1) AS finding_idx\n",
    "WITH c, value, finding_idx, value.findings[finding_idx] AS finding\n",
    "MERGE (f:Finding {id: c.community + \"_\" + toString(finding_idx)})\n",
    "SET f += finding\n",
    "MERGE (c)-[:HAS_FINDING]->(f)\n",
    "\"\"\"\n",
    "import_data(cypher_community_reports, community_reports)"
   ]
  },
  {
   "cell_type": "code",
   "execution_count": null,
   "metadata": {
    "collapsed": false
   },
   "outputs": [],
   "source": []
  }
 ],
 "metadata": {
  "kernelspec": {
   "display_name": "Python 3 (ipykernel)",
   "language": "python",
   "name": "python3"
  },
  "language_info": {
   "codemirror_mode": {
    "name": "ipython",
    "version": 3
   },
   "file_extension": ".py",
   "mimetype": "text/x-python",
   "name": "python",
   "nbconvert_exporter": "python",
   "pygments_lexer": "ipython3",
   "version": "3.12.3"
  }
 },
 "nbformat": 4,
 "nbformat_minor": 4
}
